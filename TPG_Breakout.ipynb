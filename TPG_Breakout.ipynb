{
 "cells": [
  {
   "cell_type": "markdown",
   "metadata": {},
   "source": [
    "Put this in bluenose.\n",
    "Before running, download the PyTPG directory into the same directory as this notebook.\n",
    "on bluenose, run the following:\n",
    "\n",
    "!pip install numpy\n",
    "!pip install -e\n",
    "!pip install bitarray\n",
    "!pip install matplotlib\n",
    "!pip install gym\n"
   ]
  },
  {
   "cell_type": "code",
   "execution_count": 13,
   "metadata": {},
   "outputs": [],
   "source": [
    "#Run this block to make sure you have the dependancies installed\n",
    "#Anything that doesn't work can usually be resolved using pip\n",
    "import tpg\n",
    "import numpy as np\n",
    "import matplotlib.pyplot as plt\n",
    "import gym\n",
    "import gym.spaces\n",
    "from gym import wrappers\n",
    "from tpg.tpg_trainer import TpgTrainer\n",
    "from tpg.tpg_agent import TpgAgent\n",
    "import time\n",
    "from IPython import display\n",
    "from scipy import misc\n"
   ]
  },
  {
   "cell_type": "code",
   "execution_count": 14,
   "metadata": {},
   "outputs": [],
   "source": [
    "#functions for rendering over Jupyter as used in Ryan Ameral's example\n",
    "def show_state(env, step=0, name='', info=''):\n",
    "    plt.figure(3)\n",
    "    plt.clf()\n",
    "    plt.imshow(env.render(mode='rgb_array'))\n",
    "    plt.title(\"%s | Step: %d %s\" % (name, step, info))\n",
    "    plt.axis('off')\n",
    "    display.clear_output(wait=True)\n",
    "    display.display(plt.gcf())\n",
    "    \n",
    "#uses only red instead of RGB\n",
    "def getState(state):\n",
    "    state2 = []\n",
    "    for x in state:\n",
    "        for y in x:\n",
    "            state2.append(y[0])\n",
    "            \n",
    "    return state2\n",
    "#NOTE: I never use this function. I use preprocess() instead"
   ]
  },
  {
   "cell_type": "code",
   "execution_count": 23,
   "metadata": {},
   "outputs": [
    {
     "name": "stdout",
     "output_type": "stream",
     "text": [
      "Discrete(4)\n"
     ]
    }
   ],
   "source": [
    "#build openAI gym environment and print the size of the action space\n",
    "env = gym.make('Breakout-v4')\n",
    "#wrap the env object so that we can save video of the learning process :)\n",
    "#note that this will end up saving to the directory which the code is saved in\n",
    "env = wrappers.Monitor(env, './videos/breakout-experiment-1')\n",
    "print(env.action_space)"
   ]
  },
  {
   "cell_type": "markdown",
   "metadata": {},
   "source": [
    "**The follwing is the most basic implementation. \n",
    "It a basic generational selection procedure for the Breakout game based on visual input.\n",
    "As is common practice in computer vision, RGB images have been downsized to one channel."
   ]
  },
  {
   "cell_type": "markdown",
   "metadata": {},
   "source": [
    "*WARNING!!!!!!\n",
    "**THIS BLOCK OF CODE WILL TAKE !HOURS! TO RUN!!!!!!!!!!!"
   ]
  },
  {
   "cell_type": "code",
   "execution_count": 4,
   "metadata": {},
   "outputs": [
    {
     "data": {
      "image/png": "[encoded data removed]",
      "text/plain": [
       "<Figure size 432x288 with 1 Axes>"
      ]
     },
     "metadata": {},
     "output_type": "display_data"
    },
    {
     "name": "stdout",
     "output_type": "stream",
     "text": [
      "Time Taken (Seconds): 21084.513924360275\n",
      "Results:\n",
      "Min, Max, Avg\n",
      "0.0 2.0 0.26\n",
      "0.0 2.0 0.34782608695652173\n",
      "0.0 3.0 0.5416666666666666\n",
      "0.0 3.0 0.5909090909090909\n",
      "0.0 3.0 0.8536585365853658\n",
      "0.0 3.0 0.8780487804878049\n",
      "0.0 4.0 1.0681818181818181\n",
      "0.0 4.0 1.0930232558139534\n",
      "0.0 4.0 1.2222222222222223\n",
      "0.0 4.0 1.1891891891891893\n",
      "0.0 4.0 1.146341463414634\n",
      "0.0 3.0 1.1904761904761905\n",
      "0.0 3.0 1.2142857142857142\n",
      "0.0 4.0 1.186046511627907\n",
      "0.0 4.0 1.1904761904761905\n",
      "0.0 4.0 1.1904761904761905\n",
      "0.0 3.0 1.325\n",
      "0.0 4.0 1.1081081081081081\n",
      "0.0 4.0 1.3333333333333333\n",
      "0.0 4.0 1.025\n"
     ]
    },
    {
     "data": {
      "image/png": "[encoded data removed]",
      "text/plain": [
       "<Figure size 432x288 with 1 Axes>"
      ]
     },
     "metadata": {},
     "output_type": "display_data"
    }
   ],
   "source": [
    "%matplotlib inline\n",
    "\n",
    "#used to track time\n",
    "tStart = time.time()\n",
    "\n",
    "# first create an instance of the TpgTrainer\n",
    "# this creates the whole population and everything\n",
    "trainer = TpgTrainer(actions=range(4), teamPopSize=50)\n",
    "\n",
    "curScores = [] # hold scores in a generation\n",
    "summaryScores = [] # record score summaries for each gen (min, max, avg)\n",
    "\n",
    "isDone = True\n",
    "#Try running for 20 gens and see how long it takes.\n",
    "for gen in range(20): # generation loop\n",
    "    curScores = [] # new list per gen\n",
    "    \n",
    "    while True: # loop to go through agents\n",
    "        teamNum = trainer.remainingAgents()\n",
    "        agent = trainer.getNextAgent()\n",
    "        if agent is None:\n",
    "            break # no more agents, so proceed to next gen\n",
    "        \n",
    "        # check if agent already has score\n",
    "        if agent.taskDone():\n",
    "            score = agent.getOutcome()\n",
    "        else:\n",
    "            if isDone:\n",
    "                state = env.reset() # get initial state and prep environment\n",
    "            score = 0\n",
    "            for i in range(201): # run episodes that last 200 frames\n",
    "                show_state(env, i, 'Breakout', 'Gen #' + str(gen) + \n",
    "                           ', Team #' + str(teamNum) +\n",
    "                           ', Score: ' + str(score)) # render env\n",
    "\n",
    "                act = agent.act(getState(state)) # get action from agent\n",
    "\n",
    "                # feedback from env\n",
    "                state, reward, isDone, debug = env.step(act)\n",
    "                score += reward # accumulate reward in score\n",
    "                if isDone:\n",
    "                    break # end early if losing state\n",
    "\n",
    "            agent.reward(score) # must reward agent (if didn't already score)\n",
    "            \n",
    "        curScores.append(score) # store score\n",
    "            \n",
    "    # at end of generation, make summary of scores\n",
    "    summaryScores.append((min(curScores), max(curScores),\n",
    "                    sum(curScores)/len(curScores))) # min, max, avg\n",
    "    trainer.evolve()\n",
    "    \n",
    "#clear_output(wait=True)\n",
    "print('Time Taken (Seconds): ' + str(time.time() - tStart))\n",
    "print('Results:\\nMin, Max, Avg')\n",
    "for result in summaryScores:\n",
    "    print(result[0],result[1],result[2])"
   ]
  },
  {
   "cell_type": "code",
   "execution_count": 31,
   "metadata": {},
   "outputs": [
    {
     "data": {
      "image/png": "[encoded data removed]",
      "text/plain": [
       "<Figure size 432x288 with 1 Axes>"
      ]
     },
     "metadata": {},
     "output_type": "display_data"
    }
   ],
   "source": [
    "#We see a steady increase of score, though it remains trivially small in the end.\n",
    "#I restarted the notebook and lost the RAM, but the results were still on display\n",
    "#Rather than run the code for another 6 hours, I manually enter them below:\n",
    "timeTaken = 21084.513924360275\n",
    "summaryScores = [\n",
    "    [0.0, 2.0, 0.26],\n",
    "[0.0, 2.0, 0.34782608695652173],\n",
    "[0.0, 3.0, 0.5416666666666666],\n",
    "[0.0, 3.0, 0.5909090909090909],\n",
    "[0.0, 3.0, 0.8536585365853658],\n",
    "[0.0, 3.0, 0.8780487804878049],\n",
    "[0.0, 4.0, 1.0681818181818181],\n",
    "[0.0, 4.0, 1.0930232558139534],\n",
    "[0.0, 4.0, 1.2222222222222223],\n",
    "[0.0, 4.0, 1.1891891891891893],\n",
    "[0.0, 4.0, 1.146341463414634],\n",
    "[0.0, 3.0, 1.1904761904761905],\n",
    "[0.0, 3.0, 1.2142857142857142],\n",
    "[0.0, 4.0, 1.186046511627907],\n",
    "[0.0, 4.0, 1.1904761904761905],\n",
    "[0.0, 4.0, 1.1904761904761905],\n",
    "[0.0, 3.0, 1.325],\n",
    "[0.0, 4.0, 1.1081081081081081],\n",
    "[0.0, 4.0, 1.3333333333333333],\n",
    "[0.0, 4.0, 1.025]\n",
    "]\n",
    "\n",
    "avgs = [x[2] for x in summaryScores]\n",
    "plt.plot(avgs)\n",
    "plt.xlabel('Generation')\n",
    "plt.ylabel('Average Score')\n",
    "plt.title('TPG Performance: 20 generations of size 50')\n",
    "plt.show()"
   ]
  },
  {
   "cell_type": "markdown",
   "metadata": {},
   "source": [
    "#Note that copy-pasting doesn't work, giving an error message at the end of the training.\n",
    "#To test hypotheses, i will use multiprogramming to speed things up. plus no render."
   ]
  },
  {
   "cell_type": "code",
   "execution_count": 16,
   "metadata": {},
   "outputs": [],
   "source": [
    "#Write some code here for environment preprocessing.\n",
    "\n",
    "def preprocess(observation):\n",
    "    #use numpy to convert each pixel to grayscale\n",
    "    \n",
    "    grayscale_observation = observation.mean(2)\n",
    "\n",
    "    # Resize grayscale frame to a 47x47 matrix of 32-bit floats.\n",
    "    resized_observation = misc.imresize(grayscale_observation, (47, 47)).astype(np.float32)\n",
    "\n",
    "    return np.expand_dims(resized_observation, 2)\n",
    "\n"
   ]
  },
  {
   "cell_type": "code",
   "execution_count": 24,
   "metadata": {},
   "outputs": [
    {
     "data": {
      "image/png": "[encoded data removed]",
      "text/plain": [
       "<Figure size 432x288 with 1 Axes>"
      ]
     },
     "metadata": {},
     "output_type": "display_data"
    },
    {
     "name": "stdout",
     "output_type": "stream",
     "text": [
      "Time Taken (Seconds): 49455.051896095276\n",
      "Results:\n",
      "Min, Max, Avg\n",
      "0.0 2.0 0.22\n",
      "0.0 2.0 0.2826086956521739\n",
      "0.0 2.0 0.3111111111111111\n",
      "0.0 2.0 0.45652173913043476\n",
      "0.0 2.0 0.6304347826086957\n",
      "0.0 2.0 0.7708333333333334\n",
      "0.0 2.0 0.9787234042553191\n",
      "0.0 2.0 0.9545454545454546\n",
      "0.0 2.0 0.9285714285714286\n",
      "0.0 2.0 1.1162790697674418\n",
      "0.0 2.0 0.975609756097561\n",
      "0.0 2.0 1.1136363636363635\n",
      "0.0 2.0 1.1627906976744187\n",
      "0.0 2.0 1.1666666666666667\n",
      "0.0 2.0 1.255813953488372\n",
      "0.0 2.0 1.0731707317073171\n",
      "0.0 2.0 1.1363636363636365\n",
      "0.0 2.0 1.2142857142857142\n",
      "0.0 2.0 1.2093023255813953\n",
      "0.0 2.0 1.2666666666666666\n",
      "0.0 2.0 1.108695652173913\n",
      "0.0 2.0 1.2619047619047619\n",
      "0.0 2.0 1.2127659574468086\n",
      "0.0 2.0 1.288888888888889\n",
      "0.0 2.0 1.1951219512195121\n",
      "0.0 2.0 1.0465116279069768\n",
      "0.0 2.0 1.1951219512195121\n",
      "0.0 2.0 1.25\n",
      "0.0 2.0 1.2857142857142858\n",
      "0.0 2.0 0.9512195121951219\n",
      "0.0 2.0 1.1538461538461537\n",
      "0.0 3.0 1.1794871794871795\n",
      "0.0 3.0 1.3409090909090908\n",
      "0.0 3.0 1.2926829268292683\n",
      "0.0 3.0 1.1818181818181819\n"
     ]
    },
    {
     "data": {
      "image/png": "[encoded data removed]",
      "text/plain": [
       "<Figure size 432x288 with 1 Axes>"
      ]
     },
     "metadata": {},
     "output_type": "display_data"
    }
   ],
   "source": [
    "#I cant get MP working so try again with default\n",
    "#NOTE: NP code seems to work but crashes my pc.\n",
    "%matplotlib inline\n",
    "\n",
    "#used to track time\n",
    "tStart = time.time()\n",
    "\n",
    "# first create an instance of the TpgTrainer\n",
    "# this creates the whole population and everything\n",
    "trainer = TpgTrainer(actions=range(4), teamPopSize=50)\n",
    "\n",
    "curScores = [] # hold scores in a generation\n",
    "pp_summaryScores = [] # record score summaries for each gen (min, max, avg)\n",
    "\n",
    "isDone = True\n",
    "#20 gens took ~6 hours. Try 35 for tonight.\n",
    "\n",
    "for gen in range(35): # generation loop\n",
    "    curScores = [] # new list per gen\n",
    "    \n",
    "    while True: # loop to go through agents\n",
    "        teamNum = trainer.remainingAgents()\n",
    "        agent = trainer.getNextAgent()\n",
    "        if agent is None:\n",
    "            break # no more agents, so proceed to next gen\n",
    "        \n",
    "        # check if agent already has score\n",
    "        if agent.taskDone():\n",
    "            score = agent.getOutcome()\n",
    "        else:\n",
    "            if isDone:\n",
    "                state = preprocess(env.reset()) # get initial state and prep environment\n",
    "            score = 0\n",
    "            for i in range(201): # run episodes that last 200 frames\n",
    "                show_state(env, i, 'Breakout', 'Gen #' + str(gen) + \n",
    "                           ', Team #' + str(teamNum) +\n",
    "                           ', Score: ' + str(score)) # render env\n",
    "\n",
    "                act = agent.act(state) # get action from agent\n",
    "\n",
    "                # feedback from env\n",
    "                state, reward, isDone, debug = env.step(act)\n",
    "                score += reward # accumulate reward in score\n",
    "                if isDone:\n",
    "                    break # end early if losing state\n",
    "\n",
    "            agent.reward(score) # must reward agent (if didn't already score)\n",
    "            \n",
    "        curScores.append(score) # store score\n",
    "            \n",
    "    # at end of generation, make summary of scores\n",
    "    pp_summaryScores.append((min(curScores), max(curScores),\n",
    "                    sum(curScores)/len(curScores))) # min, max, avg\n",
    "    trainer.evolve()\n",
    "    \n",
    "#clear_output(wait=True)\n",
    "print('Time Taken (Seconds): ' + str(time.time() - tStart))\n",
    "print('Results:\\nMin, Max, Avg')\n",
    "for result in pp_summaryScores:\n",
    "    print(result[0],result[1],result[2])"
   ]
  },
  {
   "cell_type": "code",
   "execution_count": 26,
   "metadata": {},
   "outputs": [
    {
     "name": "stdout",
     "output_type": "stream",
     "text": [
      "[(0.0, 2.0, 0.22), (0.0, 2.0, 0.2826086956521739), (0.0, 2.0, 0.3111111111111111), (0.0, 2.0, 0.45652173913043476), (0.0, 2.0, 0.6304347826086957), (0.0, 2.0, 0.7708333333333334), (0.0, 2.0, 0.9787234042553191), (0.0, 2.0, 0.9545454545454546), (0.0, 2.0, 0.9285714285714286), (0.0, 2.0, 1.1162790697674418), (0.0, 2.0, 0.975609756097561), (0.0, 2.0, 1.1136363636363635), (0.0, 2.0, 1.1627906976744187), (0.0, 2.0, 1.1666666666666667), (0.0, 2.0, 1.255813953488372), (0.0, 2.0, 1.0731707317073171), (0.0, 2.0, 1.1363636363636365), (0.0, 2.0, 1.2142857142857142), (0.0, 2.0, 1.2093023255813953), (0.0, 2.0, 1.2666666666666666), (0.0, 2.0, 1.108695652173913), (0.0, 2.0, 1.2619047619047619), (0.0, 2.0, 1.2127659574468086), (0.0, 2.0, 1.288888888888889), (0.0, 2.0, 1.1951219512195121), (0.0, 2.0, 1.0465116279069768), (0.0, 2.0, 1.1951219512195121), (0.0, 2.0, 1.25), (0.0, 2.0, 1.2857142857142858), (0.0, 2.0, 0.9512195121951219), (0.0, 2.0, 1.1538461538461537), (0.0, 3.0, 1.1794871794871795), (0.0, 3.0, 1.3409090909090908), (0.0, 3.0, 1.2926829268292683), (0.0, 3.0, 1.1818181818181819)]\n"
     ]
    }
   ],
   "source": [
    "print(pp_summaryScores)"
   ]
  },
  {
   "cell_type": "code",
   "execution_count": 29,
   "metadata": {},
   "outputs": [
    {
     "data": {
      "image/png": "[encoded data removed]",
      "text/plain": [
       "<Figure size 432x288 with 1 Axes>"
      ]
     },
     "metadata": {},
     "output_type": "display_data"
    }
   ],
   "source": [
    "pp_avgs = [x[2] for x in pp_summaryScores]\n",
    "plt.plot(pp_avgs)\n",
    "plt.xlabel('Generation')\n",
    "plt.ylabel('Average Score')\n",
    "plt.show()"
   ]
  },
  {
   "cell_type": "code",
   "execution_count": 37,
   "metadata": {},
   "outputs": [
    {
     "data": {
      "image/png": "[encoded data removed]",
      "text/plain": [
       "<Figure size 432x288 with 1 Axes>"
      ]
     },
     "metadata": {},
     "output_type": "display_data"
    }
   ],
   "source": [
    "plt.plot(avgs)\n",
    "plt.plot(pp_avgs)\n",
    "plt.xlabel('Generations')\n",
    "plt.ylabel('Average Score')\n",
    "plt.show()"
   ]
  },
  {
   "cell_type": "code",
   "execution_count": null,
   "metadata": {},
   "outputs": [],
   "source": []
  }
 ],
 "metadata": {
  "kernelspec": {
   "display_name": "Python 3",
   "language": "python",
   "name": "python3"
  },
  "language_info": {
   "codemirror_mode": {
    "name": "ipython",
    "version": 3
   },
   "file_extension": ".py",
   "mimetype": "text/x-python",
   "name": "python",
   "nbconvert_exporter": "python",
   "pygments_lexer": "ipython3",
   "version": "3.6.3"
  }
 },
 "nbformat": 4,
 "nbformat_minor": 2
}
